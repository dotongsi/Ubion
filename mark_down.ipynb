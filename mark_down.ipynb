{
 "cells": [
  {
   "cell_type": "code",
   "execution_count": null,
   "metadata": {},
   "outputs": [],
   "source": []
  },
  {
   "cell_type": "markdown",
   "metadata": {},
   "source": [
    "# 제목1\n",
    "## 제목2\n"
   ]
  },
  {
   "cell_type": "markdown",
   "metadata": {},
   "source": [
    "제목1\n",
    "======"
   ]
  },
  {
   "cell_type": "markdown",
   "metadata": {},
   "source": [
    "부제목\n",
    "----------"
   ]
  },
  {
   "cell_type": "markdown",
   "metadata": {},
   "source": [
    "# h1\n",
    "### h3\n",
    "###### h6\n",
    "\n",
    "> content1\n",
    ">> content2\n",
    ">>> content3"
   ]
  },
  {
   "cell_type": "markdown",
   "metadata": {},
   "source": [
    "## list\n",
    "\n",
    "1. 첫번째\n",
    "2. 두번째\n",
    "3. 세번째\n",
    "\n",
    "* 리스트1\n",
    "* 리스트2\n",
    "* 리스트3"
   ]
  },
  {
   "cell_type": "markdown",
   "metadata": {},
   "source": [
    "### code\n",
    "```python\n",
    "i = 0\n",
    "i + 1\n",
    "```\n",
    "\n",
    "code end"
   ]
  },
  {
   "cell_type": "markdown",
   "metadata": {},
   "source": [
    "[Google][googlelink]\n",
    "\n",
    "[googlelink]:[http://www.google.com]"
   ]
  },
  {
   "cell_type": "markdown",
   "metadata": {},
   "source": [
    "![Alt text](https://search.pstatic.net/common/?src=http%3A%2F%2Fblogfiles.naver.net%2FMjAxOTA1MTZfNDEg%2FMDAxNTU3OTgyNTE5NDEy.RVAt700Ruw4bFJuN0_enGfmckGkTSOFNFQIDaHh-ILUg.eZItJR7SN9RVjqnSq_h5DMamJt8t45_ftBXbcaMeVmEg.JPEG.ondo_h%2F%25B9%25AB%25C7%25D1%25B5%25B5%25C0%25FC.E60_070630_%25B9%25AB%25C0%25CE%25B5%25B5_%25C6%25AF%25C1%25FD_2.avi_001333.645.jpg&type=a340)\n",
    "\n",
    "<img src=\"https://search.pstatic.net/common/?src=http%3A%2F%2Fblogfiles.naver.net%2FMjAxOTA1MTZfNDEg%2FMDAxNTU3OTgyNTE5NDEy.RVAt700Ruw4bFJuN0_enGfmckGkTSOFNFQIDaHh-ILUg.eZItJR7SN9RVjqnSq_h5DMamJt8t45_ftBXbcaMeVmEg.JPEG.ondo_h%2F%25B9%25AB%25C7%25D1%25B5%25B5%25C0%25FC.E60_070630_%25B9%25AB%25C0%25CE%25B5%25B5_%25C6%25AF%25C1%25FD_2.avi_001333.645.jpg&type=a340\" width=\"40%\">"
   ]
  }
 ],
 "metadata": {
  "language_info": {
   "name": "python"
  },
  "orig_nbformat": 4
 },
 "nbformat": 4,
 "nbformat_minor": 2
}
